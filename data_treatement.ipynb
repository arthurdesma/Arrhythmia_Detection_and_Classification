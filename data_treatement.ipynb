{
 "cells": [
  {
   "cell_type": "code",
   "execution_count": 1,
   "metadata": {},
   "outputs": [],
   "source": [
    "import wfdb\n",
    "import csv\n",
    "import pandas as pd\n",
    "import numpy as np\n",
    "import os"
   ]
  },
  {
   "cell_type": "code",
   "execution_count": 2,
   "metadata": {},
   "outputs": [
    {
     "name": "stdout",
     "output_type": "stream",
     "text": [
      "Done\n"
     ]
    }
   ],
   "source": [
    "import os\n",
    "import csv\n",
    "import pandas as pd\n",
    "import wfdb  # Make sure wfdb is installed\n",
    "\n",
    "output_dir = \"data_creation\"\n",
    "os.makedirs(output_dir, exist_ok=True)\n",
    "\n",
    "# Patient numbers\n",
    "patient_numbers = [\n",
    "    \"100\", \"101\", \"102\", \"103\", \"104\", \"105\", \"106\", \"107\", \"108\", \"109\",\n",
    "    \"111\", \"112\", \"113\", \"114\", \"115\", \"116\", \"117\", \"118\", \"119\", \"121\",\n",
    "    \"122\", \"123\", \"124\", \"200\", \"201\", \"202\", \"203\", \"205\", \"207\", \"208\",\n",
    "    \"209\", \"210\", \"212\", \"213\", \"214\", \"215\", \"217\", \"219\", \"220\", \"221\",\n",
    "    \"222\", \"223\", \"228\", \"230\", \"231\", \"232\", \"233\", \"234\"\n",
    "]\n",
    "\n",
    "# N = normal \n",
    "# S = supra-ventricular premature\n",
    "# V = ventricular escape\n",
    "# F = fusion of ventricular and normal\n",
    "# Q = unclassified heartbeats\n",
    "symbol_to_category = {\n",
    "    'N': 'N', '.': 'N', 'L': 'N', 'R': 'N', 'e': 'N', 'j': 'N',\n",
    "    'a': 'S', 'A': 'S', 'J': 'S', 'S': 'S',\n",
    "    'V': 'V', 'E': 'V',\n",
    "    'F': 'F',\n",
    "    '/': 'Q', 'f': 'Q', 'Q': 'Q'\n",
    "}\n",
    "\n",
    "for patient_number in patient_numbers:\n",
    "    try:\n",
    "        # ECG data\n",
    "        path_to_record = f\"mit-database/{patient_number}\"\n",
    "        patient_record = wfdb.rdrecord(path_to_record)\n",
    "        leads = patient_record.sig_name\n",
    "        ecg_data = patient_record.p_signal\n",
    "\n",
    "        # ECG CSV\n",
    "        ecg_filename = f\"{output_dir}/{patient_number}_ECG.csv\"\n",
    "        with open(ecg_filename, \"w\", newline='') as outfile:\n",
    "            out_csv = csv.writer(outfile)\n",
    "            out_csv.writerow(leads)\n",
    "            for row in ecg_data:\n",
    "                out_csv.writerow(row)\n",
    "\n",
    "        # Annotations data\n",
    "        annotation = wfdb.rdann(path_to_record, 'atr')\n",
    "        symbols = annotation.symbol\n",
    "        annotations = annotation.sample\n",
    "\n",
    "        # Filter out symbols not in symbol_to_category\n",
    "        filtered_symbols_annotations = [(sym, ann) for sym, ann in zip(symbols, annotations) if sym in symbol_to_category]\n",
    "        categories = [symbol_to_category[sym] for sym, ann in filtered_symbols_annotations]\n",
    "        annotations_filtered = [ann for sym, ann in filtered_symbols_annotations]\n",
    "\n",
    "        df_annotations = pd.DataFrame({'Category': categories, 'Annotation': annotations_filtered})\n",
    "\n",
    "        # Annotations CSV\n",
    "        annotations_filename = f\"{output_dir}/{patient_number}_Annotations.csv\"\n",
    "        df_annotations.to_csv(annotations_filename, index=False)\n",
    "\n",
    "    except Exception as e:\n",
    "        print(f\"Failed to process: {patient_number}: {e}\")\n",
    "\n",
    "print(\"Done\")"
   ]
  },
  {
   "cell_type": "code",
   "execution_count": 3,
   "metadata": {},
   "outputs": [],
   "source": [
    "def process_patient_data(patient_number, data_creation_dir=\"data_creation\"):\n",
    "\n",
    "    ecg_file_path = os.path.join(data_creation_dir, f\"{patient_number}_ECG.csv\")\n",
    "    annotations_file_path = os.path.join(data_creation_dir, f\"{patient_number}_Annotations.csv\")\n",
    "    \n",
    "    patient_X = []\n",
    "    patient_Y = []\n",
    "    \n",
    "    try:\n",
    "        ecg_df = pd.read_csv(ecg_file_path)\n",
    "        annotations_df = pd.read_csv(annotations_file_path)\n",
    "    except FileNotFoundError:\n",
    "        print(f\"Files for patient {patient_number} not found. Skipping...\")\n",
    "        return [], []\n",
    "    \n",
    "    first_column_name = ecg_df.columns[0]\n",
    "\n",
    "    sampling_rate = 360  # Hz\n",
    "    window_size_seconds = 3  # Seconds before and after annotation\n",
    "    window_size_samples = window_size_seconds * sampling_rate\n",
    "\n",
    "    for _, row in annotations_df.iterrows():\n",
    "        annotation_point = row['Annotation']\n",
    "        category = row['Category']\n",
    "        \n",
    "        start_point = max(0, annotation_point - window_size_samples)\n",
    "        end_point = min(len(ecg_df), annotation_point + window_size_samples)\n",
    "        \n",
    "        window_data = ecg_df.iloc[start_point:end_point][first_column_name].to_numpy()\n",
    "        if len(window_data) < window_size_samples * 2:\n",
    "            window_data = np.pad(window_data, (0, window_size_samples * 2 - len(window_data)), 'constant')\n",
    "        \n",
    "        patient_X.append(window_data)\n",
    "        patient_Y.append(category)\n",
    "    \n",
    "    return patient_X, patient_Y\n",
    "\n",
    "# Initialize lists to hold the entire dataset\n",
    "all_X = []\n",
    "all_Y = []\n",
    "\n",
    "data_creation_dir = \"data_creation\"\n",
    "\n",
    "# Process each patient\n",
    "for patient_number in patient_numbers:\n",
    "    patient_X, patient_Y = process_patient_data(patient_number, data_creation_dir)\n",
    "    all_X.extend(patient_X)\n",
    "    all_Y.extend(patient_Y)\n",
    "\n",
    "X = np.array(all_X)\n",
    "Y = np.array(all_Y)"
   ]
  },
  {
   "cell_type": "code",
   "execution_count": 4,
   "metadata": {},
   "outputs": [
    {
     "data": {
      "text/plain": [
       "array([[-0.145, -0.145, -0.145, ...,  0.   ,  0.   ,  0.   ],\n",
       "       [-0.145, -0.145, -0.145, ...,  0.   ,  0.   ,  0.   ],\n",
       "       [-0.145, -0.145, -0.145, ...,  0.   ,  0.   ,  0.   ],\n",
       "       ...,\n",
       "       [-0.29 , -0.3  , -0.295, ...,  0.   ,  0.   ,  0.   ],\n",
       "       [-0.29 , -0.29 , -0.28 , ...,  0.   ,  0.   ,  0.   ],\n",
       "       [-0.215, -0.22 , -0.225, ...,  0.   ,  0.   ,  0.   ]])"
      ]
     },
     "execution_count": 4,
     "metadata": {},
     "output_type": "execute_result"
    }
   ],
   "source": [
    "X"
   ]
  },
  {
   "cell_type": "code",
   "execution_count": 5,
   "metadata": {},
   "outputs": [
    {
     "data": {
      "text/plain": [
       "array(['N', 'N', 'N', ..., 'N', 'N', 'N'], dtype='<U1')"
      ]
     },
     "execution_count": 5,
     "metadata": {},
     "output_type": "execute_result"
    }
   ],
   "source": [
    "Y"
   ]
  },
  {
   "cell_type": "code",
   "execution_count": 6,
   "metadata": {},
   "outputs": [
    {
     "name": "stdout",
     "output_type": "stream",
     "text": [
      "       ColumnName\n",
      "0               N\n",
      "1               N\n",
      "2               N\n",
      "3               N\n",
      "4               N\n",
      "...           ...\n",
      "109489          N\n",
      "109490          N\n",
      "109491          N\n",
      "109492          N\n",
      "109493          N\n",
      "\n",
      "[109494 rows x 1 columns]\n"
     ]
    }
   ],
   "source": [
    "df_y = pd.DataFrame(Y, columns=['ColumnName'])\n",
    "\n",
    "print(df_y)"
   ]
  },
  {
   "cell_type": "code",
   "execution_count": 7,
   "metadata": {},
   "outputs": [
    {
     "name": "stdout",
     "output_type": "stream",
     "text": [
      "ColumnName\n",
      "N    90631\n",
      "Q     8043\n",
      "V     7236\n",
      "S     2781\n",
      "F      803\n",
      "Name: count, dtype: int64\n"
     ]
    }
   ],
   "source": [
    "value_counts_y = df_y['ColumnName'].value_counts()\n",
    "print(value_counts_y)"
   ]
  }
 ],
 "metadata": {
  "kernelspec": {
   "display_name": "venv-metal",
   "language": "python",
   "name": "python3"
  },
  "language_info": {
   "codemirror_mode": {
    "name": "ipython",
    "version": 3
   },
   "file_extension": ".py",
   "mimetype": "text/x-python",
   "name": "python",
   "nbconvert_exporter": "python",
   "pygments_lexer": "ipython3",
   "version": "3.9.6"
  }
 },
 "nbformat": 4,
 "nbformat_minor": 2
}
