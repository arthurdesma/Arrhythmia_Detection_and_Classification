{
 "cells": [
  {
   "cell_type": "code",
   "execution_count": 1,
   "metadata": {},
   "outputs": [],
   "source": [
    "import wfdb\n",
    "import csv\n",
    "import pandas as pd\n",
    "import numpy as np\n",
    "import os"
   ]
  },
  {
   "cell_type": "code",
   "execution_count": 2,
   "metadata": {},
   "outputs": [
    {
     "name": "stdout",
     "output_type": "stream",
     "text": [
      "Files created for: 100: data_creation/100_ECG.csv, data_creation/100_Annotations.csv\n",
      "Files created for: 101: data_creation/101_ECG.csv, data_creation/101_Annotations.csv\n",
      "Files created for: 102: data_creation/102_ECG.csv, data_creation/102_Annotations.csv\n",
      "Files created for: 103: data_creation/103_ECG.csv, data_creation/103_Annotations.csv\n",
      "Files created for: 104: data_creation/104_ECG.csv, data_creation/104_Annotations.csv\n",
      "Files created for: 105: data_creation/105_ECG.csv, data_creation/105_Annotations.csv\n",
      "Files created for: 106: data_creation/106_ECG.csv, data_creation/106_Annotations.csv\n",
      "Files created for: 107: data_creation/107_ECG.csv, data_creation/107_Annotations.csv\n",
      "Files created for: 108: data_creation/108_ECG.csv, data_creation/108_Annotations.csv\n",
      "Files created for: 109: data_creation/109_ECG.csv, data_creation/109_Annotations.csv\n",
      "Files created for: 111: data_creation/111_ECG.csv, data_creation/111_Annotations.csv\n",
      "Files created for: 112: data_creation/112_ECG.csv, data_creation/112_Annotations.csv\n",
      "Files created for: 113: data_creation/113_ECG.csv, data_creation/113_Annotations.csv\n",
      "Files created for: 114: data_creation/114_ECG.csv, data_creation/114_Annotations.csv\n",
      "Files created for: 115: data_creation/115_ECG.csv, data_creation/115_Annotations.csv\n",
      "Files created for: 116: data_creation/116_ECG.csv, data_creation/116_Annotations.csv\n",
      "Files created for: 117: data_creation/117_ECG.csv, data_creation/117_Annotations.csv\n",
      "Files created for: 118: data_creation/118_ECG.csv, data_creation/118_Annotations.csv\n",
      "Files created for: 119: data_creation/119_ECG.csv, data_creation/119_Annotations.csv\n",
      "Files created for: 121: data_creation/121_ECG.csv, data_creation/121_Annotations.csv\n",
      "Files created for: 122: data_creation/122_ECG.csv, data_creation/122_Annotations.csv\n",
      "Files created for: 123: data_creation/123_ECG.csv, data_creation/123_Annotations.csv\n",
      "Files created for: 124: data_creation/124_ECG.csv, data_creation/124_Annotations.csv\n",
      "Files created for: 200: data_creation/200_ECG.csv, data_creation/200_Annotations.csv\n",
      "Files created for: 201: data_creation/201_ECG.csv, data_creation/201_Annotations.csv\n",
      "Files created for: 202: data_creation/202_ECG.csv, data_creation/202_Annotations.csv\n",
      "Files created for: 203: data_creation/203_ECG.csv, data_creation/203_Annotations.csv\n",
      "Files created for: 205: data_creation/205_ECG.csv, data_creation/205_Annotations.csv\n",
      "Files created for: 207: data_creation/207_ECG.csv, data_creation/207_Annotations.csv\n",
      "Files created for: 208: data_creation/208_ECG.csv, data_creation/208_Annotations.csv\n",
      "Files created for: 209: data_creation/209_ECG.csv, data_creation/209_Annotations.csv\n",
      "Files created for: 210: data_creation/210_ECG.csv, data_creation/210_Annotations.csv\n",
      "Files created for: 212: data_creation/212_ECG.csv, data_creation/212_Annotations.csv\n",
      "Files created for: 213: data_creation/213_ECG.csv, data_creation/213_Annotations.csv\n",
      "Files created for: 214: data_creation/214_ECG.csv, data_creation/214_Annotations.csv\n",
      "Files created for: 215: data_creation/215_ECG.csv, data_creation/215_Annotations.csv\n",
      "Files created for: 217: data_creation/217_ECG.csv, data_creation/217_Annotations.csv\n",
      "Files created for: 219: data_creation/219_ECG.csv, data_creation/219_Annotations.csv\n",
      "Files created for: 220: data_creation/220_ECG.csv, data_creation/220_Annotations.csv\n",
      "Files created for: 221: data_creation/221_ECG.csv, data_creation/221_Annotations.csv\n",
      "Files created for: 222: data_creation/222_ECG.csv, data_creation/222_Annotations.csv\n",
      "Files created for: 223: data_creation/223_ECG.csv, data_creation/223_Annotations.csv\n",
      "Files created for: 228: data_creation/228_ECG.csv, data_creation/228_Annotations.csv\n",
      "Files created for: 230: data_creation/230_ECG.csv, data_creation/230_Annotations.csv\n",
      "Files created for: 231: data_creation/231_ECG.csv, data_creation/231_Annotations.csv\n",
      "Files created for: 232: data_creation/232_ECG.csv, data_creation/232_Annotations.csv\n",
      "Files created for: 233: data_creation/233_ECG.csv, data_creation/233_Annotations.csv\n",
      "Files created for: 234: data_creation/234_ECG.csv, data_creation/234_Annotations.csv\n",
      "All done!\n"
     ]
    }
   ],
   "source": [
    "output_dir = \"data_creation\"\n",
    "os.makedirs(output_dir, exist_ok=True)\n",
    "\n",
    "# Patient numbers\n",
    "patient_numbers = [\n",
    "    \"100\", \"101\", \"102\", \"103\", \"104\", \"105\", \"106\", \"107\", \"108\", \"109\",\n",
    "    \"111\", \"112\", \"113\", \"114\", \"115\", \"116\", \"117\", \"118\", \"119\", \"121\",\n",
    "    \"122\", \"123\", \"124\", \"200\", \"201\", \"202\", \"203\", \"205\", \"207\", \"208\",\n",
    "    \"209\", \"210\", \"212\", \"213\", \"214\", \"215\", \"217\", \"219\", \"220\", \"221\",\n",
    "    \"222\", \"223\", \"228\", \"230\", \"231\", \"232\", \"233\", \"234\"\n",
    "]\n",
    "\n",
    "symbol_to_category = {\n",
    "    'N': 'N', '.': 'N', 'L': 'N', 'R': 'N', 'e': 'N', 'j': 'N',\n",
    "    'a': 'S', 'A': 'S', 'J': 'S', 'S': 'S',\n",
    "    'V': 'V', 'E': 'V',\n",
    "    'F': 'F',\n",
    "    '/': 'Q', 'f': 'Q', 'Q': 'Q'\n",
    "}\n",
    "\n",
    "\n",
    "for patient_number in patient_numbers:\n",
    "    try:\n",
    "        # ECG data\n",
    "        path_to_record = f\"mit-database/{patient_number}\"\n",
    "        patient_record = wfdb.rdrecord(path_to_record)\n",
    "        leads = patient_record.sig_name\n",
    "        ecg_data = patient_record.p_signal\n",
    "\n",
    "        # ECG CSV\n",
    "        ecg_filename = f\"{output_dir}/{patient_number}_ECG.csv\"\n",
    "        with open(ecg_filename, \"w\", newline='') as outfile:\n",
    "            out_csv = csv.writer(outfile)\n",
    "            out_csv.writerow(leads)\n",
    "            for row in ecg_data:\n",
    "                out_csv.writerow(row)\n",
    "\n",
    "        # Annotations data\n",
    "        annotation = wfdb.rdann(path_to_record, 'atr')\n",
    "        symbols = annotation.symbol\n",
    "        annotations = annotation.sample\n",
    "        categories = [symbol_to_category.get(sym, 'Other') for sym in symbols]\n",
    "\n",
    "        df_annotations = pd.DataFrame({'Category': categories, 'Annotation': annotations})\n",
    "\n",
    "        # Annotations CSV\n",
    "        annotations_filename = f\"{output_dir}/{patient_number}_Annotations.csv\"\n",
    "        df_annotations.to_csv(annotations_filename, index=False)\n",
    "\n",
    "        print(f\"Files created for: {patient_number}: {ecg_filename}, {annotations_filename}\")\n",
    "    except Exception as e:\n",
    "        print(f\"Failed to process: {patient_number}: {e}\")\n",
    "\n",
    "print(\"All done!\")"
   ]
  },
  {
   "cell_type": "code",
   "execution_count": 3,
   "metadata": {},
   "outputs": [],
   "source": [
    "def process_patient_data(patient_number, data_creation_dir=\"data_creation\"):\n",
    "\n",
    "    ecg_file_path = os.path.join(data_creation_dir, f\"{patient_number}_ECG.csv\")\n",
    "    annotations_file_path = os.path.join(data_creation_dir, f\"{patient_number}_Annotations.csv\")\n",
    "    \n",
    "    patient_X = []\n",
    "    patient_Y = []\n",
    "    \n",
    "    try:\n",
    "        ecg_df = pd.read_csv(ecg_file_path)\n",
    "        annotations_df = pd.read_csv(annotations_file_path)\n",
    "    except FileNotFoundError:\n",
    "        print(f\"Files for patient {patient_number} not found. Skipping...\")\n",
    "        return [], []\n",
    "    \n",
    "    first_column_name = ecg_df.columns[0]\n",
    "\n",
    "    sampling_rate = 360  # Hz\n",
    "    window_size_seconds = 3  # Seconds before and after annotation\n",
    "    window_size_samples = window_size_seconds * sampling_rate\n",
    "\n",
    "    for _, row in annotations_df.iterrows():\n",
    "        annotation_point = row['Annotation']\n",
    "        category = row['Category']\n",
    "        \n",
    "        start_point = max(0, annotation_point - window_size_samples)\n",
    "        end_point = min(len(ecg_df), annotation_point + window_size_samples)\n",
    "        \n",
    "        window_data = ecg_df.iloc[start_point:end_point][first_column_name].to_numpy()\n",
    "        if len(window_data) < window_size_samples * 2:\n",
    "            window_data = np.pad(window_data, (0, window_size_samples * 2 - len(window_data)), 'constant')\n",
    "        \n",
    "        patient_X.append(window_data)\n",
    "        patient_Y.append(category)\n",
    "    \n",
    "    return patient_X, patient_Y\n",
    "\n",
    "# Initialize lists to hold the entire dataset\n",
    "all_X = []\n",
    "all_Y = []\n",
    "\n",
    "data_creation_dir = \"data_creation\"\n",
    "\n",
    "# Process each patient\n",
    "for patient_number in patient_numbers:\n",
    "    patient_X, patient_Y = process_patient_data(patient_number, data_creation_dir)\n",
    "    all_X.extend(patient_X)\n",
    "    all_Y.extend(patient_Y)\n",
    "\n",
    "X = np.array(all_X)\n",
    "Y = np.array(all_Y)"
   ]
  },
  {
   "cell_type": "code",
   "execution_count": 4,
   "metadata": {},
   "outputs": [
    {
     "data": {
      "text/plain": [
       "array([[-0.145, -0.145, -0.145, ...,  0.   ,  0.   ,  0.   ],\n",
       "       [-0.145, -0.145, -0.145, ...,  0.   ,  0.   ,  0.   ],\n",
       "       [-0.145, -0.145, -0.145, ...,  0.   ,  0.   ,  0.   ],\n",
       "       ...,\n",
       "       [-0.29 , -0.3  , -0.295, ...,  0.   ,  0.   ,  0.   ],\n",
       "       [-0.29 , -0.29 , -0.28 , ...,  0.   ,  0.   ,  0.   ],\n",
       "       [-0.215, -0.22 , -0.225, ...,  0.   ,  0.   ,  0.   ]])"
      ]
     },
     "execution_count": 4,
     "metadata": {},
     "output_type": "execute_result"
    }
   ],
   "source": [
    "X"
   ]
  },
  {
   "cell_type": "code",
   "execution_count": 5,
   "metadata": {},
   "outputs": [
    {
     "data": {
      "text/plain": [
       "array(['Other', 'N', 'N', ..., 'N', 'N', 'N'], dtype='<U5')"
      ]
     },
     "execution_count": 5,
     "metadata": {},
     "output_type": "execute_result"
    }
   ],
   "source": [
    "Y"
   ]
  }
 ],
 "metadata": {
  "kernelspec": {
   "display_name": "venv-metal",
   "language": "python",
   "name": "python3"
  },
  "language_info": {
   "codemirror_mode": {
    "name": "ipython",
    "version": 3
   },
   "file_extension": ".py",
   "mimetype": "text/x-python",
   "name": "python",
   "nbconvert_exporter": "python",
   "pygments_lexer": "ipython3",
   "version": "3.9.6"
  }
 },
 "nbformat": 4,
 "nbformat_minor": 2
}
